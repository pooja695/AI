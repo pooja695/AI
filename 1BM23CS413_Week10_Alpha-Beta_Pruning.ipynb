{
 "cells": [
  {
   "cell_type": "code",
   "execution_count": 1,
   "id": "189809ca-5439-4268-8887-acfd79056237",
   "metadata": {},
   "outputs": [
    {
     "name": "stdout",
     "output_type": "stream",
     "text": [
      "Applied rule: {'American(Robert)', 'Owns(CountryA, m1)', 'Missile(m1)'} -> Sells(Robert, m1, CountryA)\n",
      "Applied rule: {'American(Robert)', 'Hostile(CountryA)', 'Sells(Robert, m1, CountryA)'} -> Criminal(Robert)\n",
      "\n",
      "Final facts:\n",
      "{'Sells(Robert, m1, CountryA)', 'American(Robert)', 'Hostile(CountryA)', 'Criminal(Robert)', 'Owns(CountryA, m1)', 'Missile(m1)'}\n",
      "\n",
      "Query 'Criminal(Robert)' inferred: True\n"
     ]
    }
   ],
   "source": [
    "class ForwardReasoning:\n",
    "    def __init__(self, rules, facts):\n",
    "        self.rules = rules  \n",
    "        self.facts = set(facts)  \n",
    "\n",
    "    def infer(self, query):\n",
    "        applied_rules = True\n",
    "\n",
    "        while applied_rules:\n",
    "            applied_rules = False\n",
    "            for condition, result in self.rules:\n",
    "                if condition.issubset(self.facts) and result not in self.facts:\n",
    "                    self.facts.add(result)  \n",
    "                    applied_rules = True\n",
    "                    print(f\"Applied rule: {condition} -> {result}\")\n",
    "                    if query in self.facts:\n",
    "                        return True\n",
    "\n",
    "        return query in self.facts\n",
    "\n",
    "rules = [\n",
    "    ({\"American(Robert)\", \"Missile(m1)\", \"Owns(CountryA, m1)\"}, \"Sells(Robert, m1, CountryA)\"),  \n",
    "    ({\"Sells(Robert, m1, CountryA)\", \"American(Robert)\", \"Hostile(CountryA)\"}, \"Criminal(Robert)\"),  \n",
    "]\n",
    "\n",
    "facts = {\n",
    "    \"American(Robert)\",\n",
    "    \"Hostile(CountryA)\",\n",
    "    \"Missile(m1)\",\n",
    "    \"Owns(CountryA, m1)\",\n",
    "}\n",
    "\n",
    "query = \"Criminal(Robert)\"\n",
    "\n",
    "reasoner = ForwardReasoning(rules, facts)\n",
    "result = reasoner.infer(query)\n",
    "\n",
    "print(\"\\nFinal facts:\")\n",
    "print(reasoner.facts)\n",
    "print(f\"\\nQuery '{query}' inferred: {result}\")"
   ]
  },
  {
   "cell_type": "code",
   "execution_count": null,
   "id": "6ce68d97-5387-4d43-b637-6bc82987d691",
   "metadata": {},
   "outputs": [],
   "source": []
  }
 ],
 "metadata": {
  "kernelspec": {
   "display_name": "Python 3 (ipykernel)",
   "language": "python",
   "name": "python3"
  },
  "language_info": {
   "codemirror_mode": {
    "name": "ipython",
    "version": 3
   },
   "file_extension": ".py",
   "mimetype": "text/x-python",
   "name": "python",
   "nbconvert_exporter": "python",
   "pygments_lexer": "ipython3",
   "version": "3.12.4"
  }
 },
 "nbformat": 4,
 "nbformat_minor": 5
}
