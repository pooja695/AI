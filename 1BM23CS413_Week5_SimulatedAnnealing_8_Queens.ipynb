{
 "cells": [
  {
   "cell_type": "code",
   "execution_count": 1,
   "id": "37494da7-921a-43fc-a4ca-f339e00a16c1",
   "metadata": {},
   "outputs": [
    {
     "name": "stdout",
     "output_type": "stream",
     "text": [
      "Best Solution: [3, 0, 4, 7, 1, 6, 2, 5]\n",
      "Conflicts: 0\n",
      "\n",
      "Solution Visualization:\n",
      ".Q......\n",
      "....Q...\n",
      "......Q.\n",
      "Q.......\n",
      "..Q.....\n",
      ".......Q\n",
      ".....Q..\n",
      "...Q....\n"
     ]
    }
   ],
   "source": [
    "import random\n",
    "import math\n",
    "def create_board(n):\n",
    "  return [random.randint(0, n - 1) for _ in range(n)]\n",
    "def calculate_conflicts(board):\n",
    "  n = len(board)\n",
    "  conflicts = 0\n",
    "  for i in range(n):\n",
    "    for j in range(i + 1, n):\n",
    "      if board[i] == board[j] or abs(board[i] - board[j]) == abs(i - j):\n",
    "        conflicts += 1\n",
    "  return conflicts\n",
    "def generate_neighbor(board):\n",
    "  n = len(board)\n",
    "  neighbor = board[:] \n",
    "  row_to_change = random.randint(0, n - 1)\n",
    "  neighbor[row_to_change] = random.randint(0, n - 1)\n",
    "  return neighbor\n",
    "def simulated_annealing(n, initial_temperature, cooling_rate, iterations):\n",
    "    current_board = create_board(n)\n",
    "    current_conflicts = calculate_conflicts(current_board)\n",
    "    best_board = current_board[:]\n",
    "    best_conflicts = current_conflicts\n",
    "    temperature = initial_temperature\n",
    "    for _ in range(iterations):\n",
    "        neighbor_board = generate_neighbor(current_board)\n",
    "        neighbor_conflicts = calculate_conflicts(neighbor_board)\n",
    "        delta_e = neighbor_conflicts - current_conflicts\n",
    "        if delta_e < 0 or random.uniform(0, 1) < math.exp(-delta_e / temperature):\n",
    "            current_board = neighbor_board\n",
    "            current_conflicts = neighbor_conflicts\n",
    "        if current_conflicts < best_conflicts:\n",
    "            best_board = current_board[:]\n",
    "            best_conflicts = current_conflicts\n",
    "        temperature *= cooling_rate\n",
    "    return best_board, best_conflicts\n",
    "n = 8\n",
    "initial_temperature = 1000\n",
    "cooling_rate = 0.99\n",
    "iterations = 10000\n",
    "best_solution, min_conflicts = simulated_annealing(n, initial_temperature, cooling_rate, iterations)\n",
    "print(\"Best Solution:\", best_solution)\n",
    "print(\"Conflicts:\", min_conflicts)\n",
    "import matplotlib.pyplot as plt\n",
    "def visualize_board(board):\n",
    "    n = len(board)\n",
    "    board_visual = [['.' for _ in range(n)] for _ in range(n)]\n",
    "    for i, col in enumerate(board):\n",
    "        board_visual[col][i] = 'Q'\n",
    "    for row in board_visual:\n",
    "        print(''.join(row))\n",
    "if min_conflicts == 0:\n",
    "    print(\"\\nSolution Visualization:\")\n",
    "    visualize_board(best_solution)\n",
    "else:\n",
    "    print(\"\\nNo perfect solution found within the given iterations.\")"
   ]
  },
  {
   "cell_type": "code",
   "execution_count": null,
   "id": "dcec9074-3e49-4db7-bf05-09824b9f68dc",
   "metadata": {},
   "outputs": [],
   "source": []
  }
 ],
 "metadata": {
  "kernelspec": {
   "display_name": "Python 3 (ipykernel)",
   "language": "python",
   "name": "python3"
  },
  "language_info": {
   "codemirror_mode": {
    "name": "ipython",
    "version": 3
   },
   "file_extension": ".py",
   "mimetype": "text/x-python",
   "name": "python",
   "nbconvert_exporter": "python",
   "pygments_lexer": "ipython3",
   "version": "3.11.7"
  }
 },
 "nbformat": 4,
 "nbformat_minor": 5
}
