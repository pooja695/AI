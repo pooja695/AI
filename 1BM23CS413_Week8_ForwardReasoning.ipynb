{
 "cells": [
  {
   "cell_type": "code",
   "execution_count": 1,
   "id": "5d15acbe-335e-4b3b-ac78-cf38a5c586ae",
   "metadata": {},
   "outputs": [
    {
     "name": "stdout",
     "output_type": "stream",
     "text": [
      "The optimal value is: 10\n",
      "The optimal path is: A -> B -> D -> H\n"
     ]
    }
   ],
   "source": [
    "class Node:\n",
    "    def __init__(self, name, children=None, value=None):\n",
    "        self.name = name\n",
    "        self.children = children if children is not None else []\n",
    "        self.value = value\n",
    "\n",
    "def evaluate(node):\n",
    "    return node.value\n",
    "\n",
    "def is_terminal(node):\n",
    "    return node.value is not None\n",
    "\n",
    "def get_children(node):\n",
    "    return node.children\n",
    "\n",
    "def alpha_beta_pruning(node, depth, alpha, beta, maximizing_player, path=[]):\n",
    "    # Terminal condition: leaf node or depth is 0\n",
    "    if depth == 0 or is_terminal(node):\n",
    "        return evaluate(node), path\n",
    "\n",
    "    if maximizing_player:\n",
    "        max_eval = float('-inf')\n",
    "        optimal_path = None\n",
    "        for child in get_children(node):\n",
    "            child_value, child_path = alpha_beta_pruning(child, depth - 1, alpha, beta, False, path + [child.name])\n",
    "            if child_value > max_eval:\n",
    "                max_eval = child_value\n",
    "                optimal_path = child_path\n",
    "            alpha = max(alpha, max_eval)\n",
    "            if beta <= alpha:\n",
    "                break  # Beta cut-off\n",
    "        return max_eval, optimal_path\n",
    "    else:\n",
    "        min_eval = float('inf')\n",
    "        optimal_path = None\n",
    "        for child in get_children(node):\n",
    "            child_value, child_path = alpha_beta_pruning(child, depth - 1, alpha, beta, True, path + [child.name])\n",
    "            if child_value < min_eval:\n",
    "                min_eval = child_value\n",
    "                optimal_path = child_path\n",
    "            beta = min(beta, min_eval)\n",
    "            if beta <= alpha:\n",
    "                break  # Alpha cut-off\n",
    "        return min_eval, optimal_path\n",
    "\n",
    "# Create the game tree\n",
    "H = Node('H', value=10)\n",
    "I = Node('I', value=9)\n",
    "J = Node('J', value=14)\n",
    "K = Node('K', value=18)\n",
    "L = Node('L', value=5)\n",
    "M = Node('M', value=4)\n",
    "N = Node('N', value=50)\n",
    "O = Node('O', value=3)\n",
    "\n",
    "D = Node('D', children=[H, I])\n",
    "E = Node('E', children=[J, K])\n",
    "F = Node('F', children=[L, M])\n",
    "G = Node('G', children=[N, O])\n",
    "\n",
    "B = Node('B', children=[D, E])\n",
    "C = Node('C', children=[F, G])\n",
    "\n",
    "A = Node('A', children=[B, C])\n",
    "\n",
    "# Run the alpha-beta pruning algorithm\n",
    "maximizing_player = True\n",
    "initial_alpha = float('-inf')\n",
    "initial_beta = float('inf')\n",
    "depth = 3  # Maximum depth of the tree\n",
    "\n",
    "optimal_value, optimal_path = alpha_beta_pruning(A, depth, initial_alpha, initial_beta, maximizing_player)\n",
    "print(f\"The optimal value is: {optimal_value}\")\n",
    "print(f\"The optimal path is: A -> {' -> '.join(optimal_path)}\")"
   ]
  },
  {
   "cell_type": "code",
   "execution_count": null,
   "id": "3e36bf21-5273-41b5-9385-cf0a084f5869",
   "metadata": {},
   "outputs": [],
   "source": []
  }
 ],
 "metadata": {
  "kernelspec": {
   "display_name": "Python 3 (ipykernel)",
   "language": "python",
   "name": "python3"
  },
  "language_info": {
   "codemirror_mode": {
    "name": "ipython",
    "version": 3
   },
   "file_extension": ".py",
   "mimetype": "text/x-python",
   "name": "python",
   "nbconvert_exporter": "python",
   "pygments_lexer": "ipython3",
   "version": "3.12.4"
  }
 },
 "nbformat": 4,
 "nbformat_minor": 5
}
