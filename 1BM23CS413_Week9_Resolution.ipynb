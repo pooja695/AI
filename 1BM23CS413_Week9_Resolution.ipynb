{
 "cells": [
  {
   "cell_type": "code",
   "execution_count": 1,
   "id": "164dac5e-2fee-4a14-bb90-8018d2fb3bfe",
   "metadata": {},
   "outputs": [
    {
     "name": "stdout",
     "output_type": "stream",
     "text": [
      "Derived Fact: Food(Peanuts)\n",
      "Derived Fact: Likes(John, Peanuts)\n",
      "Proven: Likes(John, Peanuts)\n"
     ]
    }
   ],
   "source": [
    "facts = {\n",
    "    \"Eats(Anil, Peanuts)\": True,\n",
    "    \"not Killed(Anil)\": True,\n",
    "    \"Food(Apple)\": True,\n",
    "    \"Food(Vegetables)\": True,\n",
    "}\n",
    "\n",
    "rules = [\n",
    "    {\"conditions\": [\"Eats(Y, X)\", \"not Killed(Y)\"], \"conclusion\": \"Food(X)\"},\n",
    "    {\"conditions\": [\"Food(X)\"], \"conclusion\": \"Likes(John, X)\"},\n",
    "]\n",
    "\n",
    "query = \"Likes(John, Peanuts)\"\n",
    "\n",
    "def substitute(rule_part, substitutions):\n",
    "    for var, value in substitutions.items():\n",
    "        rule_part = rule_part.replace(var, value)\n",
    "    return rule_part\n",
    "\n",
    "def resolve_query(facts, rules, query):\n",
    "    working_facts = facts.copy()\n",
    "    while True:\n",
    "        new_facts_added = False\n",
    "        for rule in rules:\n",
    "            conditions = rule[\"conditions\"]\n",
    "            conclusion = rule[\"conclusion\"]\n",
    "\n",
    "            for entity in [\"Apple\", \"Vegetables\", \"Peanuts\", \"Anil\", \"John\"]:\n",
    "                substitutions = {\"X\": \"Peanuts\", \"Y\": \"Anil\"}  \n",
    "                resolved_conditions = [substitute(cond, substitutions) for cond in conditions]\n",
    "                resolved_conclusion = substitute(conclusion, substitutions)\n",
    "\n",
    "                if all(working_facts.get(cond, False) for cond in resolved_conditions):\n",
    "                    if resolved_conclusion not in working_facts:\n",
    "                        working_facts[resolved_conclusion] = True\n",
    "                        new_facts_added = True\n",
    "                        print(f\"Derived Fact: {resolved_conclusion}\")\n",
    "\n",
    "        if not new_facts_added:\n",
    "            break\n",
    "\n",
    "    return working_facts.get(query, False)\n",
    "\n",
    "if resolve_query(facts, rules, query):\n",
    "    print(f\"Proven: {query}\")\n",
    "else:\n",
    "    print(f\"Not Proven: {query}\")"
   ]
  },
  {
   "cell_type": "code",
   "execution_count": null,
   "id": "bb3567c6-1651-4edb-b737-beb36de64685",
   "metadata": {},
   "outputs": [],
   "source": []
  }
 ],
 "metadata": {
  "kernelspec": {
   "display_name": "Python 3 (ipykernel)",
   "language": "python",
   "name": "python3"
  },
  "language_info": {
   "codemirror_mode": {
    "name": "ipython",
    "version": 3
   },
   "file_extension": ".py",
   "mimetype": "text/x-python",
   "name": "python",
   "nbconvert_exporter": "python",
   "pygments_lexer": "ipython3",
   "version": "3.12.4"
  }
 },
 "nbformat": 4,
 "nbformat_minor": 5
}
