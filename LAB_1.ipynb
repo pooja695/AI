{
 "cells": [
  {
   "cell_type": "markdown",
   "id": "0592086e",
   "metadata": {},
   "source": [
    "### wite the program to demostate different number data types in python"
   ]
  },
  {
   "cell_type": "code",
   "execution_count": 30,
   "id": "68eb4af7",
   "metadata": {},
   "outputs": [
    {
     "name": "stdout",
     "output_type": "stream",
     "text": [
      "value are 13 \n",
      "And data type of variable a <class 'int'>\n",
      "\n",
      "value are 34 \n",
      "data type of variable a <class 'int'>\n",
      "\n",
      "value are hello \n",
      "data type of variable a <class 'str'>\n",
      "\n",
      "value are 345.45656756768 \n",
      "data type of veriable a <class 'float'>\n",
      "\n",
      "value are 3j \n",
      "data type of veriable a <class 'complex'>\n",
      "\n",
      "value are ['mango', 'banana', 'orange'] \n",
      "data type of veriable a <class 'list'>\n",
      "\n",
      "value are ('appl', 'ball', 'cat', 'Dog') \n",
      "data type of veriable a <class 'tuple'>\n",
      "\n",
      "value are {'ice', 'fish', 'egg', 'goat'} \n",
      "data type of veriable a <class 'set'>\n",
      "\n",
      "value are {'A': 'Apple', 'B': 'Ball', 'C': 'Cat'} \n",
      "data type of veriable a <class 'dict'>\n"
     ]
    }
   ],
   "source": [
    "a=13\n",
    "b=34\n",
    "c=\"hello\"\n",
    "d=345.45656756768\n",
    "e=3j\n",
    "f=[\"mango\",\"banana\",\"orange\"]\n",
    "g=(\"appl\",\"ball\",\"cat\",\"Dog\")\n",
    "h={\"egg\",\"fish\",\"goat\",\"ice\"}\n",
    "i={\"A\":\"Apple\",\"B\":\"Ball\",\"C\":\"Cat\"}\n",
    "print(\"value are\",a,\"\\nAnd data type of variable a\",type(a))\n",
    "print(\"\\nvalue are\",b,\"\\ndata type of variable a\",type(b))\n",
    "print(\"\\nvalue are\",c,\"\\ndata type of variable a\",type(c))\n",
    "print(\"\\nvalue are\",d,\"\\ndata type of veriable a\",type(d))\n",
    "print(\"\\nvalue are\",e,\"\\ndata type of veriable a\",type(e))\n",
    "print(\"\\nvalue are\",f,\"\\ndata type of veriable a\",type(f))\n",
    "print(\"\\nvalue are\",g,\"\\ndata type of veriable a\",type(g))\n",
    "print(\"\\nvalue are\",h,\"\\ndata type of veriable a\",type(h))\n",
    "print(\"\\nvalue are\",i,\"\\ndata type of veriable a\",type(i))\n"
   ]
  },
  {
   "cell_type": "code",
   "execution_count": 1,
   "id": "a7cd5837",
   "metadata": {},
   "outputs": [
    {
     "name": "stdout",
     "output_type": "stream",
     "text": [
      "Initial List: [1, 2, 3, 4, 5]\n",
      "List after appending 9: [1, 2, 3, 4, 5, 9]\n",
      "List after removing 1: [2, 3, 4, 5, 9]\n",
      "Final List: [2, 3, 4, 5, 9]\n"
     ]
    }
   ],
   "source": [
    "my_list = [1, 2, 3, 4, 5]\n",
    "print(\"Initial List:\", my_list)\n",
    "my_list.append(9)\n",
    "print(\"List after appending 9:\", my_list)\n",
    "my_list.remove(1)\n",
    "print(\"List after removing 1:\", my_list)\n",
    "print(\"Final List:\", my_list)"
   ]
  },
  {
   "cell_type": "code",
   "execution_count": 2,
   "id": "12d00c53",
   "metadata": {},
   "outputs": [
    {
     "name": "stdout",
     "output_type": "stream",
     "text": [
      "Initial Tuple: (1, 2, 3, 4, 5)\n",
      "First element: 1\n",
      "Last element: 5\n",
      "Sliced Tuple (1:4): (2, 3, 4)\n",
      "Length of the tuple: 5\n"
     ]
    }
   ],
   "source": [
    "\n",
    "my_tuple = (1, 2, 3, 4, 5)\n",
    "print(\"Initial Tuple:\", my_tuple)\n",
    "print(\"First element:\", my_tuple[0])\n",
    "print(\"Last element:\", my_tuple[-1])\n",
    "sliced_tuple = my_tuple[1:4]\n",
    "print(\"Sliced Tuple (1:4):\", sliced_tuple)\n",
    "print(\"Length of the tuple:\", len(my_tuple))"
   ]
  },
  {
   "cell_type": "code",
   "execution_count": 3,
   "id": "b4693465",
   "metadata": {},
   "outputs": [
    {
     "name": "stdout",
     "output_type": "stream",
     "text": [
      "Initial Dictionary: {'name': 'Alice', 'age': 30, 'city': 'New York'}\n",
      "Name: Alice\n",
      "Dictionary after adding occupation: {'name': 'Alice', 'age': 30, 'city': 'New York', 'occupation': 'Engineer'}\n",
      "Dictionary after removing age: {'name': 'Alice', 'city': 'New York', 'occupation': 'Engineer'}\n",
      "Keys: dict_keys(['name', 'city', 'occupation'])\n",
      "Values: dict_values(['Alice', 'New York', 'Engineer'])\n"
     ]
    }
   ],
   "source": [
    "# Create a dictionary\n",
    "my_dict = {\n",
    "    \"name\": \"Alice\",\n",
    "    \"age\": 30,\n",
    "    \"city\": \"New York\"\n",
    "}\n",
    "print(\"Initial Dictionary:\", my_dict)\n",
    "print(\"Name:\", my_dict[\"name\"])\n",
    "my_dict[\"occupation\"] = \"Engineer\"\n",
    "print(\"Dictionary after adding occupation:\", my_dict)\n",
    "del my_dict[\"age\"]\n",
    "print(\"Dictionary after removing age:\", my_dict)\n",
    "print(\"Keys:\", my_dict.keys())\n",
    "print(\"Values:\", my_dict.values())"
   ]
  },
  {
   "cell_type": "code",
   "execution_count": 4,
   "id": "e7c703d4",
   "metadata": {},
   "outputs": [
    {
     "name": "stdout",
     "output_type": "stream",
     "text": [
      "Enter the first number: 8\n",
      "Enter the second number: 9\n",
      "Enter the third number: 10\n",
      "The largest number is: 10.0\n"
     ]
    }
   ],
   "source": [
    "number1 = float(input(\"Enter the first number: \"))\n",
    "number2 = float(input(\"Enter the second number: \"))\n",
    "number3 = float(input(\"Enter the third number: \"))\n",
    "\n",
    "largest = number1\n",
    "if number2 > largest:\n",
    "    largest = number2\n",
    "if number3 > largest:\n",
    "    largest = number3\n",
    "print(\"The largest number is:\", largest)"
   ]
  },
  {
   "cell_type": "code",
   "execution_count": null,
   "id": "2cc5a6fe",
   "metadata": {},
   "outputs": [],
   "source": []
  }
 ],
 "metadata": {
  "kernelspec": {
   "display_name": "Python 3 (ipykernel)",
   "language": "python",
   "name": "python3"
  },
  "language_info": {
   "codemirror_mode": {
    "name": "ipython",
    "version": 3
   },
   "file_extension": ".py",
   "mimetype": "text/x-python",
   "name": "python",
   "nbconvert_exporter": "python",
   "pygments_lexer": "ipython3",
   "version": "3.9.13"
  }
 },
 "nbformat": 4,
 "nbformat_minor": 5
}
